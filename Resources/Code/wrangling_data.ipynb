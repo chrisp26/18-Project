{
 "cells": [
  {
   "cell_type": "code",
   "execution_count": 1,
   "source": [
    "from splinter import Browser\r\n",
    "from bs4 import BeautifulSoup, Comment\r\n",
    "from webdriver_manager.chrome import ChromeDriverManager\r\n",
    "from selenium import webdriver\r\n",
    "\r\n",
    "import time\r\n",
    "import pandas as pd\r\n",
    "import datetime\r\n",
    "import pymongo\r\n",
    "from time import sleep\r\n",
    "from random import randint\r\n",
    "import re"
   ],
   "outputs": [],
   "metadata": {}
  },
  {
   "cell_type": "code",
   "execution_count": 4,
   "source": [
    "# Import data\r\n",
    "conn = 'mongodb://localhost:27017'\r\n",
    "client = pymongo.MongoClient(conn)\r\n",
    "\r\n",
    "# Define the 'classDB' database in Mongo\r\n",
    "db = client.cars.carsguide_used_dlr_counts"
   ],
   "outputs": [],
   "metadata": {}
  },
  {
   "cell_type": "code",
   "execution_count": 7,
   "source": [
    "dealer = db.Dealership.find()\r\n",
    "\r\n",
    "for car in dealer:\r\n",
    "    print(car)"
   ],
   "outputs": [],
   "metadata": {}
  },
  {
   "cell_type": "markdown",
   "source": [
    "-------------\r\n",
    "DATA CLEAN UP\r\n",
    "-------------"
   ],
   "metadata": {}
  },
  {
   "cell_type": "code",
   "execution_count": null,
   "source": [
    "date = datetime.datetime.today()\r\n",
    "print(date)"
   ],
   "outputs": [],
   "metadata": {}
  }
 ],
 "metadata": {
  "orig_nbformat": 4,
  "language_info": {
   "name": "python",
   "version": "3.8.8",
   "mimetype": "text/x-python",
   "codemirror_mode": {
    "name": "ipython",
    "version": 3
   },
   "pygments_lexer": "ipython3",
   "nbconvert_exporter": "python",
   "file_extension": ".py"
  },
  "kernelspec": {
   "name": "python3",
   "display_name": "Python 3.8.8 64-bit ('base': conda)"
  },
  "interpreter": {
   "hash": "f3250fe40d543f5c03f61d138d24dd30d84b23126029bb0b41e2b34b01ab6dfe"
  }
 },
 "nbformat": 4,
 "nbformat_minor": 2
}